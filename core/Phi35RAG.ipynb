{
 "cells": [
  {
   "cell_type": "code",
   "execution_count": 1,
   "metadata": {},
   "outputs": [
    {
     "name": "stderr",
     "output_type": "stream",
     "text": [
      "USER_AGENT environment variable not set, consider setting it to identify your requests.\n",
      "/Library/Frameworks/Python.framework/Versions/3.11/lib/python3.11/site-packages/langchain/hub.py:86: DeprecationWarning: The `langchainhub sdk` is deprecated.\n",
      "Please use the `langsmith sdk` instead:\n",
      "  pip install langsmith\n",
      "Use the `pull_prompt` method.\n",
      "  res_dict = client.pull_repo(owner_repo_commit)\n"
     ]
    }
   ],
   "source": [
    "from langchain import hub\n",
    "import bs4\n",
    "from langchain_chroma import Chroma\n",
    "from langchain_community.document_loaders import WebBaseLoader\n",
    "from langchain_core.output_parsers import StrOutputParser\n",
    "\n",
    "from langchain_core.runnables import RunnablePassthrough\n",
    "from langchain_text_splitters import RecursiveCharacterTextSplitter\n",
    "from langchain_ollama import OllamaLLM\n",
    "import ollama  # Assuming Ollama is the interface for using phi3 embeddings\n",
    "strainer = bs4.SoupStrainer(['article', 'main', 'div', 'section'])\n",
    "# Load, chunk, and index the contents of the blog.\n",
    "loader = WebBaseLoader(\n",
    "    web_paths=(\"https://www.redblock.ai/blog/a-quick-introduction-to-ai-agents\",),\n",
    "    bs_kwargs=dict(\n",
    "        parse_only=strainer\n",
    "    ),\n",
    ")\n",
    "docs = loader.load()\n",
    "text_splitter = RecursiveCharacterTextSplitter(chunk_size=1000, chunk_overlap=200)\n",
    "splits = text_splitter.split_documents(docs)\n",
    "\n",
    "class Phi3Embeddings:\n",
    "    def embed_documents(self, texts):\n",
    "        return [ollama.embeddings(model=\"phi3.5\", prompt=text)[\"embedding\"] for text in texts]\n",
    "\n",
    "    def embed_query(self, text):\n",
    "        return ollama.embeddings(model=\"phi3.5\", prompt=text)[\"embedding\"]\n",
    "\n",
    "phi3_embedding_instance = Phi3Embeddings()\n",
    "\n",
    "\n",
    "vectorstore = Chroma.from_documents(\n",
    "    documents=splits,\n",
    "    embedding=phi3_embedding_instance\n",
    ")\n",
    "\n",
    "\n",
    "\n",
    "# Create a retriever from the vectorstore\n",
    "\n",
    "retriever = vectorstore.as_retriever(search_type=\"mmr\", search_kwargs={'k': 4, 'fetch_k': 20})\n",
    "prompt = hub.pull(\"rlm/rag-prompt\")\n",
    "\n",
    "def format_docs(docs):\n",
    "    return \"\\n\\n\".join(doc.page_content for doc in docs)\n",
    "\n",
    "\n",
    "\n"
   ]
  },
  {
   "cell_type": "code",
   "execution_count": 2,
   "metadata": {},
   "outputs": [],
   "source": [
    "llm = OllamaLLM(model=\"phi3.5\")\n",
    "\n",
    "rag_chain = (\n",
    "    {\"context\": retriever, \"question\": RunnablePassthrough()}\n",
    "    | prompt\n",
    "    | llm\n",
    "    | StrOutputParser()\n",
    ")"
   ]
  },
  {
   "cell_type": "code",
   "execution_count": 3,
   "metadata": {},
   "outputs": [
    {
     "name": "stderr",
     "output_type": "stream",
     "text": [
      "Number of requested results 20 is greater than number of elements in index 6, updating n_results = 6\n"
     ]
    },
    {
     "name": "stdout",
     "output_type": "stream",
     "text": [
      " The document discusses the evolution, capabilities, and impacts of artificial intelligence (AI) agents in various domains such as cybersecurity, daily life convenience through smart devices like Siri or Alexa, direct platform interaction for task automation, memory retention from past interactions to provide personalized assistance.\n",
      "\n",
      "1. AI agents have evolved beyond simple tasks into complex multi-step processes with adaptive learning capabilities and long-term memory functions that mimic human cognition more closely (dynamic behavior).\n",
      "2. They are integrated directly in platforms, enhancing efficiency by automating routine activities without the need for constant user intervention (enhancements in task automation & direct interaction).\n",
      "3. AI agents play a significant role in cybersecurity at RedBlock to identify and prevent advanced threats autonomously, showcasing their importance beyond consumer convenience into critical security applications (application in cybersecurity).\n"
     ]
    }
   ],
   "source": [
    "\n",
    "response = rag_chain.invoke(\"What does it convey? Summarize it in 3 lines.\")\n",
    "\n",
    "print(response)\n"
   ]
  },
  {
   "cell_type": "code",
   "execution_count": 4,
   "metadata": {},
   "outputs": [],
   "source": [
    "vectorstore.delete_collection()\n"
   ]
  }
 ],
 "metadata": {
  "kernelspec": {
   "display_name": "Python 3.11.1 64-bit",
   "language": "python",
   "name": "python3"
  },
  "language_info": {
   "codemirror_mode": {
    "name": "ipython",
    "version": 3
   },
   "file_extension": ".py",
   "mimetype": "text/x-python",
   "name": "python",
   "nbconvert_exporter": "python",
   "pygments_lexer": "ipython3",
   "version": "3.11.1"
  },
  "orig_nbformat": 4,
  "vscode": {
   "interpreter": {
    "hash": "aee8b7b246df8f9039afb4144a1f6fd8d2ca17a180786b69acc140d282b71a49"
   }
  }
 },
 "nbformat": 4,
 "nbformat_minor": 2
}
